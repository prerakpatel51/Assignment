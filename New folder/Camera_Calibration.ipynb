{
 "cells": [
  {
   "cell_type": "markdown",
   "id": "4629d8aa",
   "metadata": {},
   "source": [
    "# 📷 Camera Calibration with OpenCV + Gradio (Inline UI)"
   ]
  },
  {
   "cell_type": "code",
   "execution_count": null,
   "id": "30a0c119",
   "metadata": {},
   "outputs": [],
   "source": [
    "# Install packages (Colab/local)\n",
    "%pip -q install -r requirements.txt"
   ]
  },
  {
   "cell_type": "markdown",
   "id": "53564fd8",
   "metadata": {},
   "source": [
    "## Prepare project files (skip if already present)"
   ]
  },
  {
   "cell_type": "code",
   "execution_count": null,
   "id": "12e34afb",
   "metadata": {},
   "outputs": [],
   "source": [
    "import os, shutil, json, sys\n",
    "\n",
    "# Detect notebook folder and ensure we can import local modules\n",
    "proj_root = \".\"\n",
    "\n",
    "# Copy helper file into the runtime (if not already here)\n",
    "if not os.path.exists(\"calibration_utils.py\"):\n",
    "    print(\"Copying helper module into notebook folder...\")\n",
    "    src = \"/mnt/data/camcalib_project/calibration_utils.py\"\n",
    "    shutil.copy(src, \"calibration_utils.py\")\n",
    "else:\n",
    "    print(\"calibration_utils.py already present.\")\n",
    "\n",
    "# Ensure images directory exists\n",
    "os.makedirs(\"images\", exist_ok=True)\n",
    "print(\"Ready. images/ created (or already exists).\")"
   ]
  },
  {
   "cell_type": "markdown",
   "id": "7ebb9481",
   "metadata": {},
   "source": [
    "## Launch Gradio inline UI"
   ]
  },
  {
   "cell_type": "code",
   "execution_count": null,
   "id": "0031843c",
   "metadata": {},
   "outputs": [],
   "source": [
    "import os, shutil\n",
    "\n",
    "# Bring the UI script into the working dir (optional)\n",
    "if not os.path.exists(\"app_gradio.py\"):\n",
    "    shutil.copy(\"/mnt/data/camcalib_project/app_gradio.py\", \"app_gradio.py\")\n",
    "\n",
    "from app_gradio import create_interface\n",
    "\n",
    "demo = create_interface()\n",
    "# Inline launch in notebooks (Colab/Jupyter)\n",
    "demo.launch(share=False, inline=True)"
   ]
  }
 ],
 "metadata": {},
 "nbformat": 4,
 "nbformat_minor": 5
}
