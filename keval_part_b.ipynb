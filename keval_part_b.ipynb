import gradio as gr

# Default working directory (as requested)
BASE_DIR = "/content"
IMG_DIR = os.path.join(BASE_DIR, "images")
OUT_JSON = os.path.join(BASE_DIR, "calibration.json")
IO.ensure_dir(IMG_DIR)

def save_uploads(files):
    """
    Save uploaded images to /content/images and return a message + count.
    """
    saved = 0
    for f in files:
        # Gradio provides a tempfile path in f.name
        data = open(f.name, "rb").read()
        # Normalize extension to .jpg
        name = os.path.basename(f.name)
        if not (name.lower().endswith(".jpg") or name.lower().endswith(".jpeg")):
            name = os.path.splitext(name)[0] + ".jpg"
        out_path = os.path.join(IMG_DIR, name)
        with open(out_path, "wb") as w:
            w.write(data)
        saved += 1
    return f"Saved {saved} image(s) to {IMG_DIR}"

def run_calibration(cols, rows, square_size_m):
    """
    Runs OpenCV calibration using images found in /content/images.
    Writes results to calibration.json and returns a text summary.
    """
    paths = IO.load_images_from_dir(IMG_DIR, exts=(".jpeg", ".jpg"))
    if len(paths) < 5:
        return f"Need at least ~5 images; found {len(paths)} in {IMG_DIR}. Add more and retry."
    pattern = (int(cols), int(rows))
    try:
        result = Calib.calibrate(paths, pattern_size=pattern, square_size=float(square_size_m))
    except Exception as e:
        return f"Calibration failed: {e}"

    IO.save_json(result, OUT_JSON)

    # Short human-readable summary
    K = np.array(result["K"])
    D = np.array(result["D"])
    msg = [
        f"Saved calibration to: {OUT_JSON}",
        f"Views used: {result['num_views']}",
        f"Image size: {result['image_size']}",
        f"RMS reprojection error: {result['ret_rms']:.4f}",
        f"Mean per-view error: {result['mean_reproj_error']:.4f}",
        f"K (intrinsics):\n{K}",
        f"D (distortion): {D}",
    ]
    return "\n".join(msg)

def show_poses_and_overlays(max_overlays, use_plotly=True):
    """
    Loads calibration.json, generates:
    - 3D pose figure (plotly if available, else matplotlib static PNG)
    - Up to N images with axes overlays
    - One undistortion preview (before/after)
    """
    if not os.path.exists(OUT_JSON):
        return None, None, "Run calibration first."

    with open(OUT_JSON, "r") as f:
        calib = json.load(f)

    K = np.array(calib["K"], dtype=np.float64)
    D = np.array(calib["D"], dtype=np.float64)
    cols = int(calib["pattern_size"]["cols"])
    rows = int(calib["pattern_size"]["rows"])
    square_size = float(calib["square_size_m"])
    extrinsics = calib["extrinsics"]
    valid_paths = calib["valid_paths"]

    # 3D poses plot
    if use_plotly:
        fig = Render.plot_poses_plotly(extrinsics, square_size=square_size, board_size=(cols, rows))
    else:
        fig = Render.plot_poses_matplotlib(extrinsics, square_size=square_size, board_size=(cols, rows))

    # Overlays (axes on sample images)
    overlays = Overlay.make_sample_overlays(valid_paths, K, D, (cols, rows), square_size, max_images=int(max_overlays))
    gallery = []
    for p, img in overlays:
        # Convert to BGR for encoding (cv2.imencode expects BGR)
        bgr = cv2.cvtColor(img, cv2.COLOR_RGB2BGR)
        ok, buf = cv2.imencode(".jpg", bgr)
        if ok:
            gallery.append((p, buf.tobytes()))
    if not gallery:
        gallery = None

    # Undistort preview (use the first valid path)
    und_preview = None
    if len(valid_paths) > 0:
        sample = IO.imread_rgb(valid_paths[0])
        und = Calib.undistort(sample, K, D, keep_size=True)
        # Stack side-by-side
        s = cv2.cvtColor(sample, cv2.COLOR_RGB2BGR)
        u = cv2.cvtColor(und, cv2.COLOR_RGB2BGR)
        pad = np.ones((s.shape[0], 10, 3), dtype=np.uint8) * 255
        side = np.hstack([s, pad, u])
        ok, buf = cv2.imencode(".jpg", side)
        if ok:
            und_preview = buf.tobytes()

    return fig, gallery, und_preview

# =========================
# Build Gradio UI
# =========================
with gr.Blocks(title="Camera Calibration (OpenCV + Gradio)", fill_height=True) as demo:
    gr.Markdown("## Camera Calibration (OpenCV + Gradio)\nUpload chessboard images, run calibration, and visualize results.\n\n- Images are saved to **/content/images**\n- Results saved to **/content/calibration.json**\n- Pattern size = INNER corners (e.g., 9×6)\n")

    with gr.Row():
        uploader = gr.Files(label="Upload .jpeg / .jpg images", file_types=["image"])
        upload_btn = gr.Button("Save to /content/images")

    upload_msg = gr.Textbox(label="Upload Log", interactive=False)

    with gr.Accordion("Calibration Parameters", open=True):
        with gr.Row():
            cols = gr.Number(value=9, label="Inner corners (cols)", precision=0)
            rows = gr.Number(value=6, label="Inner corners (rows)", precision=0)
            sq = gr.Number(value=0.025, label="Square size (meters)")

        run_btn = gr.Button("Run Calibration")
        calib_out = gr.Textbox(label="Calibration Output", lines=12)

    with gr.Accordion("Visualizations", open=True):
        with gr.Row():
            max_ov = gr.Slider(3, 10, value=6, step=1, label="Max overlay images")
            use_plotly = gr.Checkbox(value=True, label="Interactive 3D (Plotly)")

        pose_plot = gr.Plot(label="Camera Poses (3D)")
        gallery = gr.Gallery(label="Sample images with axes", columns=3, height=300)
        und_preview = gr.Image(label="Undistort Preview (left=original, right=undistorted)")

        viz_btn = gr.Button("Generate Visualizations")

    # Wiring
    upload_btn.click(fn=save_uploads, inputs=[uploader], outputs=[upload_msg])
    run_btn.click(fn=run_calibration, inputs=[cols, rows, sq], outputs=[calib_out])
    viz_btn.click(fn=show_poses_and_overlays, inputs=[max_ov, use_plotly],
                  outputs=[pose_plot, gallery, und_preview])

demo.launch(share=False, inline=True, debug=False)
